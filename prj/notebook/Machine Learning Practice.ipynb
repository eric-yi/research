{
 "cells": [
  {
   "cell_type": "code",
   "execution_count": null,
   "metadata": {},
   "outputs": [],
   "source": [
    "import numpy as np\n",
    "\n",
    "input = np.arange(3 * 100 * 100).reshape(3, 100, 100)\n",
    "input.shape"
   ]
  },
  {
   "cell_type": "code",
   "execution_count": null,
   "metadata": {},
   "outputs": [
    {
     "name": "stdout",
     "output_type": "stream",
     "text": [
      "widht:400, height:226, channel:3\n"
     ]
    }
   ],
   "source": [
    "import cv2\n",
    "img = cv2.imread('./assert/airsim_car_demo_video.png', cv2.IMREAD_UNCHANGED)\n",
    "h, w, c = img.shape\n",
    "print(f'widht:{w}, height:{h}, channel:{c}')\n",
    "\n",
    "import chainer.links as L\n",
    "import numpy as np\n",
    "x = img.astype(np.float32).reshape(1, 3, 400, 226)\n",
    "print(x.shape)\n",
    "l = L.Convolution2D(3, 3, 3)\n",
    "y = l(x)\n",
    "y.shape"
   ]
  },
  {
   "cell_type": "code",
   "execution_count": null,
   "metadata": {},
   "outputs": [],
   "source": []
  }
 ],
 "metadata": {
  "kernelspec": {
   "display_name": "Python 3",
   "language": "python",
   "name": "python3"
  },
  "language_info": {
   "codemirror_mode": {
    "name": "ipython",
    "version": 3
   },
   "file_extension": ".py",
   "mimetype": "text/x-python",
   "name": "python",
   "nbconvert_exporter": "python",
   "pygments_lexer": "ipython3",
   "version": "3.7.3"
  }
 },
 "nbformat": 4,
 "nbformat_minor": 4
}
