{
 "cells": [
  {
   "cell_type": "markdown",
   "metadata": {},
   "source": [
    "## OutLine\n",
    "\n",
    "\n",
    "### AI\n",
    "***\n",
    ">#### What is AI\n",
    ">#### Epoch of AI\n",
    ">#### TimeLine of AI\n",
    "\n",
    "    \n",
    "### Machine Learning\n",
    "***\n",
    ">#### What is Machine Learning\n",
    ">#### Domain of Machine Learning\n",
    ">#### Steps of Machine Learning\n",
    ">#### Types of Mahcine Learning\n",
    ">#### Introdue Math Model\n",
    "\n",
    "### Deep Learning\n",
    ">#### What is Deep Learning\n",
    ">#### Application of Deep Learning\n",
    ">#### Performance of Deep Learing\n",
    ">#### History of Deep Learning\n",
    ">#### Model of Deep Learning\n",
    "\n",
    "### Automated Driving Introduction\n",
    "***\n",
    ">#### History\n",
    ">#### What is ADAS\n",
    ">#### ADAS Standard\n",
    ">#### ADAS Layer\n",
    ">#### ADAS Solution\n",
    ">#### Current Situation\n",
    ">#### Timeline of Automakers\n",
    ">#### Investment Events\n",
    "\n",
    "### Automated Driving Architechture"
   ]
  },
  {
   "cell_type": "markdown",
   "metadata": {},
   "source": [
    "### AI\n",
    "<h2>Artificial Intelligence</h2>\n",
    "\n",
    "****"
   ]
  },
  {
   "cell_type": "markdown",
   "metadata": {},
   "source": [
    "#### What is AI\n",
    "<h4>Simulation of human intelligence by machines</h4>\n",
    "\n",
    "- slove problems like human\n",
    "- act like human\n",
    "- learn like human\n",
    "- beyond human ..."
   ]
  },
  {
   "cell_type": "markdown",
   "metadata": {},
   "source": [
    "#### Epoch of AI\n",
    "\n",
    "- epoch 1(52-74): birth and golden\n",
    "`Research`\n",
    "\n",
    "- epoch 2(74-93): winter\n",
    "`Worthless`\n",
    "    - Boom(80-87): `Expert System`\n",
    "\n",
    "- epoch 5(93-now): growth\n",
    "`Machine Learning`\n",
    "    - (11-now): `Deep Learning`"
   ]
  },
  {
   "cell_type": "markdown",
   "metadata": {},
   "source": [
    "### TimeLine of AI\n",
    "\n",
    "![History of AI](./assert/Artificial-Intelligence-AI-Timeline-Infographic.jpeg)\n",
    "\n",
    "- 1950 TURING TEST Computer scientist Alan Turing proposes a test for machine intelligence. If a machine can trick humans into thinking it is human, then it has intelligence\n",
    "- 1955 A.I. BORN Term ‘artificial intelligence’ is coined by computer scientist, John McCarthy to describe “the  and engineering of making intelligent machines”\n",
    "- 1961 UNIMATE First industrial robot, Unimate, goes to work at GM replacing humans on the assembly line\n",
    "- 1964 ELIZA Pioneering chatbot developed by Joseph Weizenbaum at MIT holds conversations with humans\n",
    "- 1966 SHAKEY The ‘first electronic person’ from Stanford, Shakey is a general-purpose mobile robot reasons about its own actions\n",
    "- 1997 DEEP BLUE Deep Blue, a chess-playing computer from IBM defeats world chess champion, Garry Kasparov\n",
    "- 1998 KISMET Cynthia Breazeal at MIT introduces KISmet, an emotionally intelligent robot insofar as it detects and responds to people’s feelings\n",
    "- 1999 AIBO Sony launches first consumer robot pet dog AiBO (AI robot) with skills and personality that develop over time\n",
    "- 2002 ROOMBA First mass produced autonomous robotic vacuum cleaner from iRobot learns to navigate and clean homes\n",
    "- 2011 SIRI Apple integrates Siri, an intelligent virtual assistant with a voice interface, into the iPhone 4S\n",
    "- 2011 WATSON IBM’s question answering computer Watson wins first place on popular $1M prize television quiz show Jeopardy\n",
    "- 2014 EUGENE Eugene Goostman, a chatbot passes the Turing Test with a third of judges believing Eugene is human\n",
    "- 2014 ALEXA Amazon launches Alexa, an intelligent virtual assistant with a voice interface that can complete shopping tasks\n",
    "- 2016 TAY Microsoft’s chatbot Tay goes rogue on social media making inflammatory and offensive racist comments\n",
    "- 2017 ALPHAGO Google’s A.I. AlphaGo beats world champion Ke Jie in the complex board game of Go, notable for its vast number (2*170) of possible positions\n"
   ]
  },
  {
   "cell_type": "markdown",
   "metadata": {},
   "source": [
    "## Machine Learning\n",
    "><h3>Computer</h3>\n",
    "><h3>Mathmatics</h3>\n",
    "><h3>Biology</h3>\n",
    "***"
   ]
  },
  {
   "cell_type": "markdown",
   "metadata": {},
   "source": [
    "### What is Machine Learning\n",
    "\n",
    "scientific study of algorithms and statistical models that computer systems use in order to perform a specific task effectively without using explicit instructions, relying on patterns and inference instead. "
   ]
  },
  {
   "cell_type": "markdown",
   "metadata": {},
   "source": [
    "#### Domain of Machine Learning\n",
    "\n",
    "![Machine Learning Domain](./assert/machine_learning_kind.jpg)"
   ]
  },
  {
   "cell_type": "markdown",
   "metadata": {},
   "source": [
    "### Steps of Machine Learning\n",
    "\n",
    "- Data\n",
    "    `Gathering and Preparation`\n",
    "- Modeling\n",
    "    `build a mathematical model`\n",
    "- Training\n",
    "    `with training dataset`\n",
    "- Evaluation\n",
    "    `with test dataset`\n",
    "- Tuning\n",
    "    `change paramters`"
   ]
  },
  {
   "cell_type": "markdown",
   "metadata": {},
   "source": [
    "#### Types of Mahcine Learning\n",
    "\n",
    "![Types of Machine Learning](./assert/machine_learning_types.jpg)\n",
    "\n",
    "- Supervised Learning: build a mathematical model of a set of data that contains both the inputs and the desired outputs\n",
    "        \n",
    "    - Nearest Neighbor\n",
    "    - Naive Bayes\n",
    "    - Decision Trees\n",
    "    - Linear Regression\n",
    "    - Support Vector Machines (SVM)\n",
    "    - Neural Networks\n",
    "\n",
    "- Unsupervised Learning:  build a mathematical model of set of data that contains only inputs, and find structure in the data\n",
    "\n",
    "    - k-means clustering, Association Rules\n",
    "\n",
    "\n",
    "- Reinforcement Learning: build a mathematical model in an environment so as to maximize some notion of cumulative reward.\n",
    "\n",
    "    - Q-Learning\n",
    "    - Temporal Difference (TD)\n",
    "    - Deep Adversarial Networks"
   ]
  },
  {
   "cell_type": "markdown",
   "metadata": {},
   "source": [
    "### Introdue Math Model\n",
    "\n",
    "- KNN: k-Nearest Neighbors\n",
    "![KNN](./assert/KNN_formula.png)\n",
    "    - classifier\n",
    "    - many features with complex relations\n",
    "    - `OCR` `face detect` `find disease`\n",
    "    - `simple` and `quick` but `Lack of capacity`\n",
    "\n",
    "- Naive Bayes\n",
    "![Naive Bayes](./assert/bayes_formula.png)\n",
    "    - classifier\n",
    "    - many features with effect\n",
    "    - `spam email` `IDS`\n",
    "\n",
    "- Decision Trees\n",
    "![Decision Trees](./assert/Entropy_gain.png)\n",
    "    - predictor\n",
    "    - features of unbalance\n",
    "    - `box office`\n",
    "    - `simple` and `common` and `small` but `bias` and `overfit` and `volatile`"
   ]
  },
  {
   "cell_type": "markdown",
   "metadata": {},
   "source": [
    "### Deep Learning\n",
    "\n",
    "***"
   ]
  },
  {
   "cell_type": "markdown",
   "metadata": {},
   "source": [
    "#### What is Deep Learning\n",
    "\n",
    "<h4>Deep Learning is a subset of Machine Learning that achieves great power and flexibility by learning to represent the world as nested hierarchy of concepts, with each concept defined in relation to simpler concepts, and more abstract representations computed in terms of less abstract ones.</h4>\n",
    "\n",
    "![Nature Network Model](./assert/Neural-Network-Model.jpg)\n",
    "\n",
    "- deep neural networks\n",
    "- deep belief networks\n",
    "- recurrent neural networks\n",
    "- convolutional neural networks"
   ]
  },
  {
   "cell_type": "markdown",
   "metadata": {},
   "source": [
    "#### Application of Deep Learning\n",
    "\n",
    "- computer vision\n",
    "- speech recognition\n",
    "- natural language processing\n",
    "- machine translation\n",
    "- board game\n",
    "- Automated Driving"
   ]
  },
  {
   "cell_type": "markdown",
   "metadata": {},
   "source": [
    "#### Performance of Deep Learing\n",
    "\n",
    "![Performace Deep Learning](./assert/deep_learning_compare.png)"
   ]
  },
  {
   "cell_type": "markdown",
   "metadata": {},
   "source": [
    "#### History of Deep Learning\n",
    "\n",
    "![Deep Learning TimeLine](./assert/deep_learning_timeline.jpg)"
   ]
  },
  {
   "cell_type": "markdown",
   "metadata": {},
   "source": [
    "#### Model of Deep Learning\n",
    "\n",
    "- <h4>Single Layer Perceptron (SLP)</h4>\n",
    "\n",
    "![slp model](./assert/slp_model.png)\n",
    "\n",
    "- <h4>Multilayer Perceptron (MLP)</h4>\n",
    "\n",
    "![mlp model](./assert/mlp_model.png)"
   ]
  },
  {
   "cell_type": "markdown",
   "metadata": {},
   "source": [
    "### Automated Driving Introduction\n",
    "\n",
    "***"
   ]
  },
  {
   "cell_type": "markdown",
   "metadata": {},
   "source": [
    "#### History\n",
    "\n",
    "![ADAS History](./assert/adas_history.jpeg)"
   ]
  },
  {
   "cell_type": "markdown",
   "metadata": {},
   "source": [
    "#### What is ADAS\n"
   ]
  },
  {
   "cell_type": "markdown",
   "metadata": {},
   "source": [
    "#### ADAS Standard\n",
    "\n",
    "<h3>Advanced driver-assistance systems</h3>\n"
   ]
  },
  {
   "cell_type": "markdown",
   "metadata": {},
   "source": [
    "#### ADAS Layer\n",
    "\n",
    "![adas level](./assert/adas_level.png)\n",
    "\n",
    "![adas level](./assert/adas_sae_level.png)\n",
    "\n",
    "| Type | Description of degree of automation and the driver's anticipation | Example system |\n",
    "| :--- | :--- | :--- |\n",
    "| No automation  | The driver guides the longitudinal (acceleration and deceleration) and the lateral (steering) guidance always during the entire drive.  | There is no driver assistance system active in the longitudinal or transversal control.  |\n",
    "|  Driver assistance | Drivers always perform either the transverse or longitudinal control. Individual other tasks are done within certain limits by the system. The driver must always monitor the system and must always be ready to take over the vehicle at all times.  |  Adaptive cruise control (ACC) with longitudinal control with adaptive distance and speed control park assist and lateral guidance by parking assistant. |\n",
    "|  Partial automation |  The system implements transverse and longitudinal control for a certain period of time in specific situations. The driver must always monitor the system and must always be ready to take over the vehicle at all times. | Motorway assistant with automatic longitudinal and transverse control on motorways up to an upper speed limit. The driver must always monitor and react immediately to the request.  | \n",
    "|  Conditional automation|  The system gets activated and implements transverse and longitudinal control based on an optional takeover request. The driver receives additional data relevant to the automated function status. The driver must always monitor the system and must always be ready to take over the vehicle at all times.| Traffic jam function with automatic longitudinal and transverse control on motorways up to an upper speed limit. The driver gets the option to let the system to take over and must always monitor and react immediately to a request.  | \n",
    "| High automation | The system implements transverse and longitudinal control for a certain period of time in specific situations. The driver does not have to monitor the system always. If necessary, the driver is requested to take over with sufficient notice. System limits are all recognized by the system. The system is incapable of producing the risk-dominated state from any initial situation. | Highway driving with automatic longitudinal and lateral control. On motorways up to an upper speed limit. The driver does not have to monitor always and must react within a certain time reserve after a takeover request. |\n",
    "| Full automation | The system performs completely transverse and longitudinal control in a defined use case. The driver does not have to monitor the system. Before leaving the use case, the system prompts the driver with sufficient time to pick up. If this is not done, the system is returned to the risk-minimized system state. The system limits are all recognized by the system and the system is capable of returning to the risk-critical system state in all situations. | Highway pilot with automatic longitudinal and transverse control on motorways up to an upper speed limit. The driver does not need to monitor. If the driver does not respond to a request for acceptance, the vehicle brakes to a standstill.|\n",
    "\n"
   ]
  },
  {
   "cell_type": "markdown",
   "metadata": {},
   "source": [
    "#### ADAS Solution\n",
    "\n",
    "\n",
    "|Maker|Distance between disengagements\t|Distance|\n",
    "|---|---|---|\n",
    "|Waymo|\t5,127.9 miles (8,252.6 km)\t|635,868 miles (1,023,330 km)|\n",
    "|BMW\t|638 miles (1,027 km)\t|638 miles (1,027 km)|\n",
    "|Nissan\t|263.3 miles (423.7 km)\t|6,056 miles (9,746 km)|\n",
    "|Ford\t|196.6 miles (316.4 km)\t|590 miles (950 km)|\n",
    "|General Motors|\t54.7 miles (88.0 km)\t|8,156 miles (13,126 km)|\n",
    "|Delphi Automotive Systems\t|14.9 miles (24.0 km)|\t2,658 miles (4,278 km)|\n",
    "|Tesla\t|2.9 miles (4.7 km)|\t550 miles (890 km)|\n",
    "|Mercedes Benz\t|2 miles (3.2 km)\t|673 miles (1,083 km)|\n",
    "|Bosch\t|0.68 miles (1.09 km)\t|983 miles (1,582 km)|\n",
    "|Volkswagen\t|5.56 miles (8.95 km)\t|9 miles (14 km)|\n",
    "\n",
    "<center> 2016 </center>"
   ]
  },
  {
   "cell_type": "markdown",
   "metadata": {},
   "source": [
    "#### Current Situation"
   ]
  },
  {
   "cell_type": "markdown",
   "metadata": {},
   "source": [
    "#### Timeline of Automakers\n",
    "\n",
    "- GM – Rumors of Self-Driving by 2018 \n",
    "- Ford – True Self-Driving by 2021\n",
    "- Honda – Self-Driving on the Highway by 2020\n",
    "- Toyota – Self-Driving on the Highway by 2020\n",
    "- Renault-Nissan – 2020 for Autonomous Cars in Urban Conditions, 2025 for Truly Driverless Cars\n",
    "- Volvo – Self-Driving on the Highway by 2021\n",
    "- Hyundai – Highway 2020, Urban Driving 2030\n",
    "- Daimler – Nearly Fully Autonomous by Early 2020’s\n",
    "- Fiat-Chrysler – CEO expects there to be some self driving on the road by 2021\n",
    "- BMW – Fully self-driving possible by 2021"
   ]
  },
  {
   "cell_type": "markdown",
   "metadata": {},
   "source": [
    "#### Investment Events\n",
    "- Ford `$1 billion` investment in Argo AI \n",
    "- Toyota `$1 billion` investment in Toyota Research Institute\n",
    "- GM `$581 million` to acquire self-driving car start-up, Cruise Automation.\n",
    "- GM `$500 million` investment in Lyft\n",
    "- Volvo ` $300 million` joint  venture with Uber\n",
    "- Hyundai `$1.7 billion` in R&D"
   ]
  },
  {
   "cell_type": "markdown",
   "metadata": {},
   "source": [
    "### Automated Driving Architechture"
   ]
  },
  {
   "cell_type": "code",
   "execution_count": null,
   "metadata": {},
   "outputs": [],
   "source": []
  }
 ],
 "metadata": {
  "kernelspec": {
   "display_name": "Python 3",
   "language": "python",
   "name": "python3"
  },
  "language_info": {
   "codemirror_mode": {
    "name": "ipython",
    "version": 3
   },
   "file_extension": ".py",
   "mimetype": "text/x-python",
   "name": "python",
   "nbconvert_exporter": "python",
   "pygments_lexer": "ipython3",
   "version": "3.7.3"
  }
 },
 "nbformat": 4,
 "nbformat_minor": 2
}
