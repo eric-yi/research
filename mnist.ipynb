{
 "cells": [
  {
   "cell_type": "markdown",
   "metadata": {},
   "source": [
    "# Mnist Handwrite"
   ]
  },
  {
   "cell_type": "markdown",
   "metadata": {},
   "source": [
    "[Deep Learning 3 - Download the MNIST, handwritten digit dataset](https://schwalbe10.github.io/thinkage/2017/03/05/mnist.html)"
   ]
  },
  {
   "cell_type": "code",
   "execution_count": 17,
   "metadata": {},
   "outputs": [
    {
     "data": {
      "text/plain": [
       "'dataset/mnist_lecun/train-images-idx3-ubyte.gz'"
      ]
     },
     "execution_count": 17,
     "metadata": {},
     "output_type": "execute_result"
    }
   ],
   "source": [
    "import os\n",
    "\n",
    "data_sources = {\n",
    "    \"training_images\": os.path.join('dataset/mnist_lecun', \"train-images-idx3-ubyte.gz\"),  # 60,000 training images.\n",
    "    \"test_images\":  os.path.join('dataset/mnist_lecun',\"t10k-images-idx3-ubyte.gz\"),  # 10,000 test images.\n",
    "    \"training_labels\":  os.path.join('dataset/mnist_lecun',\"train-labels-idx1-ubyte.gz\"),  # 60,000 training labels.\n",
    "    \"test_labels\":  os.path.join('dataset/mnist_lecun',\"t10k-labels-idx1-ubyte.gz\"),  # 10,000 test labels.\n",
    "}\n",
    "\n",
    "data_sources[\"training_images\"]"
   ]
  },
  {
   "cell_type": "code",
   "execution_count": 18,
   "metadata": {},
   "outputs": [
    {
     "name": "stderr",
     "output_type": "stream",
     "text": [
      "ERROR:root:Internal Python error in the inspect module.\n",
      "Below is the traceback from this internal error.\n",
      "\n"
     ]
    },
    {
     "name": "stdout",
     "output_type": "stream",
     "text": [
      "Traceback (most recent call last):\n",
      "  File \"/Library/Frameworks/Python.framework/Versions/3.7/lib/python3.7/site-packages/IPython/core/interactiveshell.py\", line 3296, in run_code\n",
      "    exec(code_obj, self.user_global_ns, self.user_ns)\n",
      "  File \"<ipython-input-18-ca19cc2d26d3>\", line 15, in <module>\n",
      "    'training_images': load_images(data_sources['training_images']),\n",
      "  File \"<ipython-input-18-ca19cc2d26d3>\", line 9, in load_images\n",
      "    return np.frombuffer(read_gzip(path), np.uint8, offset=8)\n",
      "  File \"<ipython-input-18-ca19cc2d26d3>\", line 5, in read_gzip\n",
      "    with gzip.open(path, 'rb') as fd:\n",
      "  File \"/Library/Frameworks/Python.framework/Versions/3.7/lib/python3.7/gzip.py\", line 53, in open\n",
      "    binary_file = GzipFile(filename, gz_mode, compresslevel)\n",
      "  File \"/Library/Frameworks/Python.framework/Versions/3.7/lib/python3.7/gzip.py\", line 163, in __init__\n",
      "    fileobj = self.myfileobj = builtins.open(filename, mode or 'rb')\n",
      "FileNotFoundError: [Errno 2] No such file or directory: 'dataset/mnist_lecun/train-images-idx3-ubyte.gz'\n",
      "\n",
      "During handling of the above exception, another exception occurred:\n",
      "\n",
      "Traceback (most recent call last):\n",
      "  File \"/Library/Frameworks/Python.framework/Versions/3.7/lib/python3.7/site-packages/IPython/core/interactiveshell.py\", line 2033, in showtraceback\n",
      "    stb = value._render_traceback_()\n",
      "AttributeError: 'FileNotFoundError' object has no attribute '_render_traceback_'\n",
      "\n",
      "During handling of the above exception, another exception occurred:\n",
      "\n",
      "Traceback (most recent call last):\n",
      "  File \"/Library/Frameworks/Python.framework/Versions/3.7/lib/python3.7/site-packages/IPython/core/ultratb.py\", line 1095, in get_records\n",
      "    return _fixed_getinnerframes(etb, number_of_lines_of_context, tb_offset)\n",
      "  File \"/Library/Frameworks/Python.framework/Versions/3.7/lib/python3.7/site-packages/IPython/core/ultratb.py\", line 313, in wrapped\n",
      "    return f(*args, **kwargs)\n",
      "  File \"/Library/Frameworks/Python.framework/Versions/3.7/lib/python3.7/site-packages/IPython/core/ultratb.py\", line 347, in _fixed_getinnerframes\n",
      "    records = fix_frame_records_filenames(inspect.getinnerframes(etb, context))\n",
      "  File \"/Library/Frameworks/Python.framework/Versions/3.7/lib/python3.7/inspect.py\", line 1502, in getinnerframes\n",
      "    frameinfo = (tb.tb_frame,) + getframeinfo(tb, context)\n",
      "  File \"/Library/Frameworks/Python.framework/Versions/3.7/lib/python3.7/inspect.py\", line 1460, in getframeinfo\n",
      "    filename = getsourcefile(frame) or getfile(frame)\n",
      "  File \"/Library/Frameworks/Python.framework/Versions/3.7/lib/python3.7/inspect.py\", line 696, in getsourcefile\n",
      "    if getattr(getmodule(object, filename), '__loader__', None) is not None:\n",
      "  File \"/Library/Frameworks/Python.framework/Versions/3.7/lib/python3.7/inspect.py\", line 725, in getmodule\n",
      "    file = getabsfile(object, _filename)\n",
      "  File \"/Library/Frameworks/Python.framework/Versions/3.7/lib/python3.7/inspect.py\", line 709, in getabsfile\n",
      "    return os.path.normcase(os.path.abspath(_filename))\n",
      "  File \"/Library/Frameworks/Python.framework/Versions/3.7/lib/python3.7/posixpath.py\", line 383, in abspath\n",
      "    cwd = os.getcwd()\n",
      "FileNotFoundError: [Errno 2] No such file or directory\n"
     ]
    },
    {
     "ename": "FileNotFoundError",
     "evalue": "[Errno 2] No such file or directory: 'dataset/mnist_lecun/train-images-idx3-ubyte.gz'",
     "output_type": "error",
     "traceback": [
      "\u001b[0;31m---------------------------------------------------------------------------\u001b[0m"
     ]
    }
   ],
   "source": [
    "import gzip\n",
    "\n",
    "\n",
    "def read_gzip(path):\n",
    "    with gzip.open(path, 'rb') as fd:\n",
    "        return fd.read()\n",
    "\n",
    "def load_images(path):\n",
    "    return np.frombuffer(read_gzip(path), np.uint8, offset=8)\n",
    "\n",
    "def load_labels(path):\n",
    "    return np.frombuffer(read_gzip(path), np.uint8, offset=16)\n",
    "    \n",
    "mnist_dataset = {\n",
    "    'training_images': load_images(data_sources['training_images']),\n",
    "    'test_images': load_images(data_sources['test_images']),\n",
    "    'training_labels': load_labels(data_sources['training_labels']),\n",
    "    'test_labels': load_labels(data_sources['test_labels']),\n",
    "}"
   ]
  },
  {
   "cell_type": "code",
   "execution_count": 29,
   "metadata": {},
   "outputs": [
    {
     "data": {
      "text/plain": [
       "array([[1, 2],\n",
       "       [3, 4]])"
      ]
     },
     "execution_count": 29,
     "metadata": {},
     "output_type": "execute_result"
    }
   ],
   "source": [
    "a = np.array(((1,2), (3, 4)))\n",
    "b = np.array(((5,6), (7, 8)))\n",
    "a"
   ]
  },
  {
   "cell_type": "code",
   "execution_count": 30,
   "metadata": {},
   "outputs": [
    {
     "data": {
      "text/plain": [
       "array([[19, 22],\n",
       "       [43, 50]])"
      ]
     },
     "execution_count": 30,
     "metadata": {},
     "output_type": "execute_result"
    }
   ],
   "source": [
    "a @ b"
   ]
  },
  {
   "cell_type": "code",
   "execution_count": 32,
   "metadata": {},
   "outputs": [
    {
     "data": {
      "text/plain": [
       "array([[19, 22],\n",
       "       [43, 50]])"
      ]
     },
     "execution_count": 32,
     "metadata": {},
     "output_type": "execute_result"
    }
   ],
   "source": [
    "np.dot(a, b)"
   ]
  },
  {
   "cell_type": "code",
   "execution_count": 33,
   "metadata": {},
   "outputs": [
    {
     "data": {
      "text/plain": [
       "array([[ 1,  2,  3,  4],\n",
       "       [ 3,  2,  1,  4],\n",
       "       [ 5,  4,  6,  7],\n",
       "       [11, 12, 13, 14]])"
      ]
     },
     "execution_count": 33,
     "metadata": {},
     "output_type": "execute_result"
    }
   ],
   "source": [
    "c = np.array([\n",
    "                       [1,2,3,4],\n",
    "                       [3,2,1,4],\n",
    "                       [5,4,6,7],\n",
    "                       [11,12,13,14]\n",
    "                      ])\n",
    "c"
   ]
  },
  {
   "cell_type": "code",
   "execution_count": 34,
   "metadata": {},
   "outputs": [
    {
     "data": {
      "text/plain": [
       "array([[[ 2,  3],\n",
       "        [11,  9],\n",
       "        [32, 21],\n",
       "        [28, 17]],\n",
       "\n",
       "       [[ 2,  3],\n",
       "        [ 1,  9],\n",
       "        [ 3, 21],\n",
       "        [28,  7]],\n",
       "\n",
       "       [[ 2,  3],\n",
       "        [ 1,  9],\n",
       "        [ 3, 21],\n",
       "        [28,  7]]])"
      ]
     },
     "execution_count": 34,
     "metadata": {},
     "output_type": "execute_result"
    }
   ],
   "source": [
    "d = np.array([\n",
    "                             [[2,3],[11,9],[32,21],[28,17]],\n",
    "                             [[2,3],[1,9],[3,21],[28,7]],\n",
    "                             [[2,3],[1,9],[3,21],[28,7]],\n",
    "                            ])\n",
    "d"
   ]
  },
  {
   "cell_type": "code",
   "execution_count": 35,
   "metadata": {},
   "outputs": [
    {
     "data": {
      "text/plain": [
       "((4, 4), (3, 4, 2))"
      ]
     },
     "execution_count": 35,
     "metadata": {},
     "output_type": "execute_result"
    }
   ],
   "source": [
    "c.shape, d.shape"
   ]
  },
  {
   "cell_type": "code",
   "execution_count": 37,
   "metadata": {},
   "outputs": [
    {
     "data": {
      "text/plain": [
       "array([[[232, 152],\n",
       "        [172, 116],\n",
       "        [442, 296],\n",
       "        [962, 652]],\n",
       "\n",
       "       [[125, 112],\n",
       "        [123,  76],\n",
       "        [228, 226],\n",
       "        [465, 512]],\n",
       "\n",
       "       [[125, 112],\n",
       "        [123,  76],\n",
       "        [228, 226],\n",
       "        [465, 512]]])"
      ]
     },
     "execution_count": 37,
     "metadata": {},
     "output_type": "execute_result"
    }
   ],
   "source": [
    "c @ d"
   ]
  },
  {
   "cell_type": "code",
   "execution_count": 39,
   "metadata": {},
   "outputs": [
    {
     "data": {
      "text/plain": [
       "array([[[232, 152],\n",
       "        [125, 112],\n",
       "        [125, 112]],\n",
       "\n",
       "       [[172, 116],\n",
       "        [123,  76],\n",
       "        [123,  76]],\n",
       "\n",
       "       [[442, 296],\n",
       "        [228, 226],\n",
       "        [228, 226]],\n",
       "\n",
       "       [[962, 652],\n",
       "        [465, 512],\n",
       "        [465, 512]]])"
      ]
     },
     "execution_count": 39,
     "metadata": {},
     "output_type": "execute_result"
    }
   ],
   "source": [
    "np.dot(c, d)"
   ]
  },
  {
   "cell_type": "code",
   "execution_count": 53,
   "metadata": {},
   "outputs": [
    {
     "data": {
      "text/plain": [
       "array([[[0.76656709, 0.94816933]],\n",
       "\n",
       "       [[0.67999922, 0.18194632]],\n",
       "\n",
       "       [[0.88726742, 0.0268895 ]]])"
      ]
     },
     "execution_count": 53,
     "metadata": {},
     "output_type": "execute_result"
    }
   ],
   "source": [
    "np.random.rand(3,1,2)"
   ]
  },
  {
   "cell_type": "code",
   "execution_count": 57,
   "metadata": {},
   "outputs": [
    {
     "data": {
      "text/plain": [
       "array([[ 5,  6,  7,  8],\n",
       "       [10, 12, 14, 16],\n",
       "       [15, 18, 21, 24],\n",
       "       [20, 24, 28, 32]])"
      ]
     },
     "execution_count": 57,
     "metadata": {},
     "output_type": "execute_result"
    }
   ],
   "source": [
    "np.outer(a, b)"
   ]
  }
 ],
 "metadata": {
  "kernelspec": {
   "display_name": "Python 3",
   "language": "python",
   "name": "python3"
  },
  "language_info": {
   "codemirror_mode": {
    "name": "ipython",
    "version": 3
   },
   "file_extension": ".py",
   "mimetype": "text/x-python",
   "name": "python",
   "nbconvert_exporter": "python",
   "pygments_lexer": "ipython3",
   "version": "3.7.3"
  }
 },
 "nbformat": 4,
 "nbformat_minor": 4
}
