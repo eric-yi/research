{
 "cells": [
  {
   "cell_type": "markdown",
   "metadata": {},
   "source": [
    "# Contents"
   ]
  },
  {
   "cell_type": "markdown",
   "metadata": {},
   "source": [
    "## older\n",
    "\n",
    "- [Bank Marketing DataSet - Intelligent Targeting](./prj/notebook/Bank_Marketing_Campaign.ipynb)\n",
    "\n",
    "- [machine learning and ADAS session](./prj/notebook/machine%20learning%20and%20ADAS%20session.ipynb)\n",
    "\n",
    "- [Machine Learning Practice](./prj/notebook/Machine%20Learning%20Practice.ipynb)\n",
    "\n",
    "- [meshplot_tutorial](./prj/notebook/meshplot_tutorial.ipynb)\n",
    "\n",
    "- [renderer](./prj/notebook/renderer.ipynb)"
   ]
  },
  {
   "cell_type": "code",
   "execution_count": null,
   "metadata": {},
   "outputs": [],
   "source": []
  }
 ],
 "metadata": {
  "kernelspec": {
   "display_name": "Python 3",
   "language": "python",
   "name": "python3"
  },
  "language_info": {
   "codemirror_mode": {
    "name": "ipython",
    "version": 3
   },
   "file_extension": ".py",
   "mimetype": "text/x-python",
   "name": "python",
   "nbconvert_exporter": "python",
   "pygments_lexer": "ipython3",
   "version": "3.7.3"
  }
 },
 "nbformat": 4,
 "nbformat_minor": 4
}
