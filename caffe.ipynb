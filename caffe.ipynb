{
 "cells": [
  {
   "cell_type": "markdown",
   "id": "325a8110-ba15-43e5-94f5-60aaa1be789d",
   "metadata": {},
   "source": [
    "# Caffe Learning\n",
    "\n",
    "[https://caffe.berkeleyvision.org/](https://caffe.berkeleyvision.org/)\n",
    "\n",
    "[深度学习caffe入门到实战应用 b站](https://www.bilibili.com/video/BV1G4411Q7RF?spm_id_from=333.999.0.0)\n",
    "\n",
    "[OS X Installation](https://caffe.berkeleyvision.org/install_osx.html)\n",
    "\n",
    "<span style=\"color:red;\">*</span> [Install Caffe With Anaconda (Python 3 version)](https://yangcha.github.io/Caffe-Conda3/)"
   ]
  },
  {
   "cell_type": "markdown",
   "id": "9dfc73fb-3c32-4771-8dd5-d154576baccd",
   "metadata": {},
   "source": [
    "## install caffe on docker because of support cuda 7\n",
    "\n",
    "```bash\n",
    "docker pull bvlc/caffe:gpu\n",
    "```"
   ]
  },
  {
   "cell_type": "code",
   "execution_count": null,
   "id": "0d01f978-ca80-4091-b68a-38380f11cac3",
   "metadata": {},
   "outputs": [],
   "source": []
  }
 ],
 "metadata": {
  "kernelspec": {
   "display_name": "Python 3",
   "language": "python",
   "name": "python3"
  },
  "language_info": {
   "codemirror_mode": {
    "name": "ipython",
    "version": 3
   },
   "file_extension": ".py",
   "mimetype": "text/x-python",
   "name": "python",
   "nbconvert_exporter": "python",
   "pygments_lexer": "ipython3",
   "version": "3.9.7"
  }
 },
 "nbformat": 4,
 "nbformat_minor": 5
}
