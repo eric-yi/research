{
 "cells": [
  {
   "cell_type": "markdown",
   "id": "325a8110-ba15-43e5-94f5-60aaa1be789d",
   "metadata": {},
   "source": [
    "# Caffe Learning\n",
    "\n",
    "[https://caffe.berkeleyvision.org/](https://caffe.berkeleyvision.org/)\n",
    "\n",
    "[深度学习caffe入门到实战应用 b站](https://www.bilibili.com/video/BV1G4411Q7RF?spm_id_from=333.999.0.0)\n",
    "\n",
    "[OS X Installation](https://caffe.berkeleyvision.org/install_osx.html)\n",
    "\n",
    "<span style=\"color:red;\">*</span> [Install Caffe With Anaconda (Python 3 version)](https://yangcha.github.io/Caffe-Conda3/)"
   ]
  },
  {
   "cell_type": "code",
   "execution_count": 1,
   "id": "92433e38-de11-48b3-af34-4b5d029ecb87",
   "metadata": {},
   "outputs": [
    {
     "ename": "ModuleNotFoundError",
     "evalue": "No module named 'caffe'",
     "output_type": "error",
     "traceback": [
      "\u001b[0;31m---------------------------------------------------------------------------\u001b[0m",
      "\u001b[0;31mModuleNotFoundError\u001b[0m                       Traceback (most recent call last)",
      "Input \u001b[0;32mIn [1]\u001b[0m, in \u001b[0;36m<cell line: 1>\u001b[0;34m()\u001b[0m\n\u001b[0;32m----> 1\u001b[0m \u001b[38;5;28;01mimport\u001b[39;00m \u001b[38;5;21;01mcaffe\u001b[39;00m\n",
      "\u001b[0;31mModuleNotFoundError\u001b[0m: No module named 'caffe'"
     ]
    }
   ],
   "source": [
    "import caffe"
   ]
  }
 ],
 "metadata": {
  "kernelspec": {
   "display_name": "Python 3",
   "language": "python",
   "name": "python3"
  },
  "language_info": {
   "codemirror_mode": {
    "name": "ipython",
    "version": 3
   },
   "file_extension": ".py",
   "mimetype": "text/x-python",
   "name": "python",
   "nbconvert_exporter": "python",
   "pygments_lexer": "ipython3",
   "version": "3.9.7"
  }
 },
 "nbformat": 4,
 "nbformat_minor": 5
}
