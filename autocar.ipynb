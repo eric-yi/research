{
 "cells": [
  {
   "cell_type": "markdown",
   "id": "f7118724-0c22-46bc-ac77-136b34f227f4",
   "metadata": {},
   "source": [
    "# AutoCar\n",
    "\n",
    "> 自动驾驶小车，调研用"
   ]
  },
  {
   "cell_type": "markdown",
   "id": "bde2cf3e-88a6-46e4-8bc3-bf0d9eb2f8eb",
   "metadata": {},
   "source": [
    "- [视视频: 自制ros移动机器人介绍](https://www.bilibili.com/video/BV1TZ4y1B7VR?p=1)\n",
    "\n",
    "- [ROS，RC车，jetson nano，导航与飙车（1）配件准备](https://blog.csdn.net/qq_15536485/article/details/121761226?spm=1001.2014.3001.5501)\n",
    "\n",
    "- [github: jetracer](https://github.com/tianbot/jetracer)\n",
    "\n",
    "- [淘宝： 阿克曼ROS小车机器人移动摄影智能底盘视觉SLAM雷达树莓派工控机](https://item.taobao.com/item.htm?spm=a1z10.5-c-s.w4002-15726392046.35.6974458eTxrcRi&id=610821045267)\n",
    "\n"
   ]
  },
  {
   "cell_type": "markdown",
   "id": "b15ff55b-a53b-43eb-9207-7b550b4ed685",
   "metadata": {},
   "source": [
    "## 根据[ROS，RC车，jetson nano，导航与飙车（1）配件准备](https://blog.csdn.net/qq_15536485/article/details/121761226?spm=1001.2014.3001.5501)装配\n",
    "\n",
    "#### 配件\n",
    "- 小车\n",
    "    - hsp94123 1/10赛速\n",
    "    - 电控\n",
    "        - 有感无刷电机 10车3650 8车3660电机\n",
    "        - 有感无刷电调 8车120a \n",
    "        - 有感电调和有感电机， 可使低速保持稳定\n",
    "     - 航模电池 3s电池\n",
    "     - 充电器 随便\n",
    "     - 航模电池输出 自制\n",
    "     - 遥控器与接收器，3通道\n",
    "     \n",
    "     ![battle_output](./assets/battle_output.png)\n",
    "     \n",
    "- 上位机\n",
    "    - jetson nano 2g 4g\n",
    "    - pca9685：16路pwm波输出，jetson nano利用i2c发出pwm波\n",
    "    \n",
    "    [pca9685](assets/pca9685.png)\n",
    "    \n",
    "    - 二选一输出\n",
    "        \n",
    "    ![at9s](./assets/at9s.png)\n",
    "        \n",
    "- 感知\n",
    "    - 雷达\n",
    "    - 摄像头 d435 csi摄像头\n",
    "    \n",
    "- 亚克力板 12cmx35cm，3mm厚度"
   ]
  },
  {
   "cell_type": "code",
   "execution_count": null,
   "id": "3aa6fe03-3c13-46d4-9d2c-da0a8563e8c2",
   "metadata": {},
   "outputs": [],
   "source": [
    "#### 价格预估\n",
    "\n",
    "- 小车 : 600 - 800\n",
    "- jetson 4g: 700 - 800\n",
    "- pca9685: 30\n",
    "- 雷达: 400 - 1000\n",
    "- 摄像头\n",
    "    - csi: 100\n",
    "    - d435: 2300 - 2500\n",
    "- 亚克力板: "
   ]
  },
  {
   "cell_type": "code",
   "execution_count": null,
   "id": "d2d27923-12fb-401c-bb11-790909d46524",
   "metadata": {},
   "outputs": [],
   "source": []
  }
 ],
 "metadata": {
  "kernelspec": {
   "display_name": "Python 3 (ipykernel)",
   "language": "python",
   "name": "python3"
  },
  "language_info": {
   "codemirror_mode": {
    "name": "ipython",
    "version": 3
   },
   "file_extension": ".py",
   "mimetype": "text/x-python",
   "name": "python",
   "nbconvert_exporter": "python",
   "pygments_lexer": "ipython3",
   "version": "3.9.12"
  }
 },
 "nbformat": 4,
 "nbformat_minor": 5
}
